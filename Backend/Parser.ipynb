{
 "cells": [
  {
   "cell_type": "code",
   "execution_count": null,
   "metadata": {},
   "outputs": [],
   "source": [
    "import requests\n",
    "import time\n",
    "import json\n",
    "from bs4 import BeautifulSoup"
   ]
  },
  {
   "cell_type": "code",
   "execution_count": null,
   "metadata": {},
   "outputs": [],
   "source": [
    "base_url = 'https://www2.hm.com'\n",
    "url = 'https://www2.hm.com/en_gb/index.html'\n",
    "headers = {'User-Agent':('Mozilla/5.0 (Windows NT 10.0; Win64; x64) AppleWebKit/537.36 (KHTML, like Gecko)'\n",
    "                         ' Chrome/89.0.4389.90 Safari/537.36')}"
   ]
  },
  {
   "cell_type": "code",
   "execution_count": null,
   "metadata": {},
   "outputs": [],
   "source": [
    "class Category:\n",
    "    def __init__(self, id, parent_id, title):\n",
    "        self.id = id\n",
    "        self.parent_id = parent_id\n",
    "        self.title = title\n",
    "        \n",
    "    def to_dict(self):\n",
    "        return {'id': self.id, 'parent_id': self.parent_id, 'title': self.title}\n",
    "    \n",
    "\n",
    "class Offer:\n",
    "    def __init__(self, title, images, category_id, description=None):\n",
    "        self.title = title\n",
    "        self.description = description\n",
    "        self.images = images\n",
    "        self.category_id = category_id\n",
    "        \n",
    "    def to_dict(self):\n",
    "        return {'title': self.title,\n",
    "                'images': [x for x in self.images],\n",
    "                'description': self.description,\n",
    "                'category_id': self.category_id}"
   ]
  },
  {
   "cell_type": "code",
   "execution_count": null,
   "metadata": {
    "scrolled": false
   },
   "outputs": [],
   "source": [
    "def parse_all_categories():\n",
    "    page = requests.get(url, headers=headers)\n",
    "    soup = BeautifulSoup(page.content, 'html.parser')\n",
    "\n",
    "    women = Category(id=1, parent_id=None, title=\"Women\")\n",
    "    men = Category(id=2, parent_id=None, title=\"Men\")\n",
    "\n",
    "    sections = soup.find_all(\"li\", {\"class\": \"menu__block menu--unfolded\"})[:2]\n",
    "    all_categories = [women, men]\n",
    "    all_offers = []\n",
    "\n",
    "    for section in sections:\n",
    "        categories = section.find_all(\"a\", {\"class\": \"menu__sub-link\"})\n",
    "        parent_section = women if \"ladies\" in categories[0]['href'] else men\n",
    "\n",
    "        for entry in categories:\n",
    "            category = Category(id=len(all_categories) + 1, parent_id=parent_section.id, title=entry.text)\n",
    "            all_categories.append(category)\n",
    "            \n",
    "            print(category.to_dict())\n",
    "\n",
    "            if \"view all\" in category.title.lower():\n",
    "                continue\n",
    "            if \"sizes\" in category.title.lower():\n",
    "                all_categories.pop()\n",
    "                continue\n",
    "            if \"h&m\" in category.title.lower():\n",
    "                all_categories.pop()\n",
    "                continue\n",
    "            if \"premium selection\" in category.title.lower():\n",
    "                all_categories.pop()\n",
    "                break\n",
    "\n",
    "            parse_subcategories(base_url + entry['href'], category, all_categories)\n",
    "            time.sleep(2.5)\n",
    "    return all_categories\n",
    "\n",
    "def parse_subcategories(subcat_url, parent_category, all_categories):\n",
    "    page = requests.get(subcat_url, headers=headers)\n",
    "    soup = BeautifulSoup(page.content, 'html.parser')\n",
    "\n",
    "    subcategories = [x.find(\"a\").text.strip() for x in soup.find(\"a\", {\"class\": \"link current\"})\n",
    "        .find_parent()\n",
    "        .find_all(\"li\", {\"class\": \"item\"})]\n",
    "\n",
    "    for entry in subcategories:\n",
    "        subcategory = Category(id=len(all_categories) + 1, parent_id=parent_category.id, title=entry)\n",
    "        all_categories.append(subcategory)"
   ]
  },
  {
   "cell_type": "code",
   "execution_count": null,
   "metadata": {
    "pycharm": {
     "name": "#%%\n"
    }
   },
   "outputs": [],
   "source": [
    "# all_categories = parse_all_categories()\n",
    "# with open(\"categories.json\", \"w\", encoding=\"utf-8\") as f:\n",
    "#     json.dump([x.to_dict() for x in all_categories], f)"
   ]
  },
  {
   "cell_type": "code",
   "execution_count": null,
   "metadata": {},
   "outputs": [],
   "source": [
    "def parse_all_offers():\n",
    "    page = requests.get(url, headers=headers)\n",
    "    soup = BeautifulSoup(page.content, 'html.parser')\n",
    "\n",
    "    women = Category(id=1, parent_id=None, title=\"Women\")\n",
    "    men = Category(id=2, parent_id=None, title=\"Men\")\n",
    "\n",
    "    sections = soup.find_all(\"li\", {\"class\": \"menu__block menu--unfolded\"})[:2]\n",
    "    all_categories = [women, men]\n",
    "    all_offers = []\n",
    "\n",
    "    for section in sections:\n",
    "        categories = section.find_all(\"a\", {\"class\": \"menu__sub-link\"})\n",
    "        parent_section = women if \"ladies\" in categories[0]['href'] else men\n",
    "\n",
    "        for entry in categories:\n",
    "            category = Category(id=len(all_categories) + 1, parent_id=parent_section.id, title=entry.text)\n",
    "            all_categories.append(category)\n",
    "            \n",
    "            print(category.to_dict())\n",
    "\n",
    "            if \"view all\" in category.title.lower():\n",
    "                continue\n",
    "            if \"sizes\" in category.title.lower():\n",
    "                all_categories.pop()\n",
    "                continue\n",
    "            if \"h&m\" in category.title.lower():\n",
    "                all_categories.pop()\n",
    "                continue\n",
    "            if \"premium selection\" in category.title.lower():\n",
    "                all_categories.pop()\n",
    "                break\n",
    "\n",
    "            parse_subcategories(base_url + entry['href'], category, all_categories, all_offers)\n",
    "            time.sleep(2.5)\n",
    "    return all_offers\n",
    "\n",
    "def parse_subcategories(subcat_url, parent_category, all_categories, all_offers):\n",
    "    page = requests.get(subcat_url, headers=headers)\n",
    "    soup = BeautifulSoup(page.content, 'html.parser')\n",
    "\n",
    "    subcategories = [x.find(\"a\").text.strip() for x in soup.find(\"a\", {\"class\": \"link current\"})\n",
    "        .find_parent()\n",
    "        .find_all(\"li\", {\"class\": \"item\"})]\n",
    "    subcategories_refs = [x.find(\"a\")['href'] for x in soup.find(\"a\", {\"class\": \"link current\"})\n",
    "        .find_parent()\n",
    "        .find_all(\"li\", {\"class\": \"item\"})]\n",
    "\n",
    "    for i in range(len(subcategories)):\n",
    "        subcategory = Category(id=len(all_categories) + 1, parent_id=parent_category.id, title=subcategories[i])\n",
    "        all_categories.append(subcategory)\n",
    "        \n",
    "        print(subcategory.to_dict())\n",
    "        \n",
    "        parse_items(base_url + subcategories_refs[i], subcategory.id, all_offers)\n",
    "        \n",
    "def parse_items(subcat_url, category_id, all_offers):\n",
    "    page = requests.get(subcat_url, headers=headers)\n",
    "    soup = BeautifulSoup(page.content, 'html.parser')\n",
    "    \n",
    "    products = soup.find_all(\"li\", {\"class\": \"product-item\"})\n",
    "    for entry in products:\n",
    "        title = entry.find(\"a\", {\"class\": \"link\"}).text\n",
    "        img = product.find(\"img\", {\"class\": \"item-image\"})\n",
    "        images = [img['src'], img['data-altimage']]\n",
    "        \n",
    "        all_offers.append(Offer(title=title, images=images, category_id=category_id))\n",
    "    \n",
    "    time.sleep(2.5)"
   ]
  },
  {
   "cell_type": "code",
   "execution_count": null,
   "metadata": {},
   "outputs": [],
   "source": [
    "# all_offers = parse_all_offers()\n",
    "# with open(\"offers.json\", \"w\", encoding=\"utf-8\") as f:\n",
    "#     json.dump([x.to_dict() for x in all_offers], f)"
   ]
  }
 ],
 "metadata": {
  "kernelspec": {
   "display_name": "Python 3",
   "language": "python",
   "name": "python3"
  },
  "language_info": {
   "codemirror_mode": {
    "name": "ipython",
    "version": 3
   },
   "file_extension": ".py",
   "mimetype": "text/x-python",
   "name": "python",
   "nbconvert_exporter": "python",
   "pygments_lexer": "ipython3",
   "version": "3.8.2"
  },
  "varInspector": {
   "cols": {
    "lenName": 16,
    "lenType": 16,
    "lenVar": 40
   },
   "kernels_config": {
    "python": {
     "delete_cmd_postfix": "",
     "delete_cmd_prefix": "del ",
     "library": "var_list.py",
     "varRefreshCmd": "print(var_dic_list())"
    },
    "r": {
     "delete_cmd_postfix": ") ",
     "delete_cmd_prefix": "rm(",
     "library": "var_list.r",
     "varRefreshCmd": "cat(var_dic_list()) "
    }
   },
   "position": {
    "height": "624.383px",
    "left": "1674.13px",
    "right": "20px",
    "top": "120px",
    "width": "353.867px"
   },
   "types_to_exclude": [
    "module",
    "function",
    "builtin_function_or_method",
    "instance",
    "_Feature"
   ],
   "window_display": false
  }
 },
 "nbformat": 4,
 "nbformat_minor": 4
}
