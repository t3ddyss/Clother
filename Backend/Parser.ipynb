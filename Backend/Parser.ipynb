{
 "cells": [
  {
   "cell_type": "code",
   "execution_count": 1,
   "metadata": {},
   "outputs": [],
   "source": [
    "import requests\n",
    "import time\n",
    "import json\n",
    "from bs4 import BeautifulSoup"
   ]
  },
  {
   "cell_type": "code",
   "execution_count": 2,
   "metadata": {},
   "outputs": [],
   "source": [
    "url = 'https://www.avito.ru/rossiya/odezhda_obuv_aksessuary?cd=1&s=104&p={}'"
   ]
  },
  {
   "cell_type": "code",
   "execution_count": 28,
   "metadata": {},
   "outputs": [],
   "source": [
    "class Offer:\n",
    "    def __init__(self, title, image, address):\n",
    "        self.title = title\n",
    "        self.image = image\n",
    "        self.address = address\n",
    "        \n",
    "    def to_dict(self):\n",
    "        return {'title': self.title, 'image': self.image, 'address': self.address}"
   ]
  },
  {
   "cell_type": "code",
   "execution_count": 31,
   "metadata": {},
   "outputs": [],
   "source": [
    "offers = []\n",
    "\n",
    "for i in range(15):\n",
    "    page = requests.get(url.format(i + 1))\n",
    "    soup = BeautifulSoup(page.content, 'html.parser')\n",
    "    \n",
    "    items = soup.find_all(\"div\", {\"itemtype\": \"http://schema.org/Product\"})\n",
    "    for item in items:\n",
    "        details = item.find(\"img\", {\"class\": \"photo-slider-image-1fpZZ\"})\n",
    "        \n",
    "        try:\n",
    "            title = details['alt']\n",
    "            image = details['src']\n",
    "            address = item.find(\"span\", {\"class\": \"geo-address-9QndR text-text-1PdBw text-size-s-1PUdo\"}).find(\"span\").text\n",
    "        except Exception:\n",
    "            continue\n",
    "        \n",
    "        offers.append(Offer(title, image, address).to_dict())\n",
    "    time.sleep(7)\n",
    "    \n",
    "with open(\"offers.txt\", \"w\", encoding=\"utf-8\") as f:\n",
    "    json.dump(offers, f)"
   ]
  },
  {
   "cell_type": "code",
   "execution_count": null,
   "metadata": {},
   "outputs": [],
   "source": []
  }
 ],
 "metadata": {
  "kernelspec": {
   "display_name": "Python 3",
   "language": "python",
   "name": "python3"
  },
  "language_info": {
   "codemirror_mode": {
    "name": "ipython",
    "version": 3
   },
   "file_extension": ".py",
   "mimetype": "text/x-python",
   "name": "python",
   "nbconvert_exporter": "python",
   "pygments_lexer": "ipython3",
   "version": "3.8.2"
  },
  "varInspector": {
   "cols": {
    "lenName": 16,
    "lenType": 16,
    "lenVar": 40
   },
   "kernels_config": {
    "python": {
     "delete_cmd_postfix": "",
     "delete_cmd_prefix": "del ",
     "library": "var_list.py",
     "varRefreshCmd": "print(var_dic_list())"
    },
    "r": {
     "delete_cmd_postfix": ") ",
     "delete_cmd_prefix": "rm(",
     "library": "var_list.r",
     "varRefreshCmd": "cat(var_dic_list()) "
    }
   },
   "types_to_exclude": [
    "module",
    "function",
    "builtin_function_or_method",
    "instance",
    "_Feature"
   ],
   "window_display": false
  }
 },
 "nbformat": 4,
 "nbformat_minor": 4
}
