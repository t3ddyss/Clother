{
 "cells": [
  {
   "cell_type": "code",
   "execution_count": 1,
   "metadata": {},
   "outputs": [
    {
     "name": "stdout",
     "output_type": "stream",
     "text": [
      "Requirement already satisfied: sqlalchemy in c:\\users\\fedor\\appdata\\local\\programs\\python\\python38\\lib\\site-packages (1.4.5)\n",
      "Requirement already satisfied: greenlet!=0.4.17 in c:\\users\\fedor\\appdata\\local\\programs\\python\\python38\\lib\\site-packages (from sqlalchemy) (1.0.0)\n"
     ]
    }
   ],
   "source": [
    "!pip install sqlalchemy"
   ]
  },
  {
   "cell_type": "code",
   "execution_count": 2,
   "metadata": {},
   "outputs": [],
   "source": [
    "import sqlalchemy as db\n",
    "from sqlalchemy.ext.declarative import declarative_base\n",
    "from sqlalchemy import Column, Integer, Text, ForeignKey\n",
    "from sqlalchemy.orm import relationship, backref\n",
    "from sqlalchemy.orm import sessionmaker\n",
    "\n",
    "Base = declarative_base()\n",
    "engine = db.create_engine('sqlite:///clother_category.db')\n",
    "connection = engine.connect()\n",
    "Session = sessionmaker(bind=engine)"
   ]
  },
  {
   "cell_type": "code",
   "execution_count": 3,
   "metadata": {},
   "outputs": [],
   "source": [
    "class Category(Base):\n",
    "    __tablename__ = 'category'\n",
    "    id = Column(Integer, primary_key=True)\n",
    "    parent_id = Column(Integer, ForeignKey('category.id'), nullable=True)\n",
    "    title = Column(Text, nullable=False)\n",
    "    last_level = Column(Integer, default=1, nullable=False)\n",
    "\n",
    "    subcategories = relationship('Category',\n",
    "                                    backref=backref('parent', remote_side=[id]),\n",
    "                                    lazy=True)"
   ]
  },
  {
   "cell_type": "code",
   "execution_count": 4,
   "metadata": {},
   "outputs": [],
   "source": [
    "Base.metadata.create_all(engine)"
   ]
  },
  {
   "cell_type": "code",
   "execution_count": 5,
   "metadata": {},
   "outputs": [],
   "source": [
    "session = Session()\n",
    "\n",
    "categories = json.load(open(\"./categories.json\", 'r'))\n",
    "for entry in categories:\n",
    "    category = Category(parent_id=entry['parent_id'], title=entry['title'])\n",
    "\n",
    "    session.add(category)\n",
    "    session.commit()\n",
    "\n",
    "delete_query = Category.__table__.delete().where(Category.title.ilike(\"view all\"))\n",
    "session.execute(delete_query)\n",
    "session.commit()\n",
    "\n",
    "categories = session.query(Category).all()\n",
    "for category in categories:\n",
    "    if len(category.subcategories) > 0:\n",
    "        category.last_level = False\n",
    "        session.commit()"
   ]
  },
  {
   "cell_type": "code",
   "execution_count": 7,
   "metadata": {},
   "outputs": [
    {
     "data": {
      "text/plain": [
       "[0, 0, 0, 0, 0, 0, 0, 1, 1, 0, 0, 0, 0, 0, 0, 0, 0, 0, 0, 0, 0, 0, 0, 1]"
      ]
     },
     "execution_count": 7,
     "metadata": {},
     "output_type": "execute_result"
    }
   ],
   "source": [
    "[x.last_level for x in session.query(Category).first().subcategories]"
   ]
  },
  {
   "cell_type": "code",
   "execution_count": 8,
   "metadata": {},
   "outputs": [
    {
     "data": {
      "text/plain": [
       "[10, 5, 7, 4, 6, 4, 4, 0, 0, 8, 2, 9, 2, 9, 7, 3, 9, 13, 3, 6, 3, 14, 13, 0]"
      ]
     },
     "execution_count": 8,
     "metadata": {},
     "output_type": "execute_result"
    }
   ],
   "source": [
    "[len(x.subcategories) for x in session.query(Category).first().subcategories]"
   ]
  }
 ],
 "metadata": {
  "kernelspec": {
   "display_name": "Python 3",
   "language": "python",
   "name": "python3"
  },
  "language_info": {
   "codemirror_mode": {
    "name": "ipython",
    "version": 3
   },
   "file_extension": ".py",
   "mimetype": "text/x-python",
   "name": "python",
   "nbconvert_exporter": "python",
   "pygments_lexer": "ipython3",
   "version": "3.8.2"
  },
  "varInspector": {
   "cols": {
    "lenName": 16,
    "lenType": 16,
    "lenVar": 40
   },
   "kernels_config": {
    "python": {
     "delete_cmd_postfix": "",
     "delete_cmd_prefix": "del ",
     "library": "var_list.py",
     "varRefreshCmd": "print(var_dic_list())"
    },
    "r": {
     "delete_cmd_postfix": ") ",
     "delete_cmd_prefix": "rm(",
     "library": "var_list.r",
     "varRefreshCmd": "cat(var_dic_list()) "
    }
   },
   "types_to_exclude": [
    "module",
    "function",
    "builtin_function_or_method",
    "instance",
    "_Feature"
   ],
   "window_display": false
  }
 },
 "nbformat": 4,
 "nbformat_minor": 4
}
